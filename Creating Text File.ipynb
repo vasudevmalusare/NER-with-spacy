{
 "cells": [
  {
   "cell_type": "code",
   "execution_count": 26,
   "id": "c02362eb",
   "metadata": {},
   "outputs": [],
   "source": [
    "import pandas as pd\n",
    "import numpy as np"
   ]
  },
  {
   "cell_type": "code",
   "execution_count": 27,
   "id": "3e8bddc7",
   "metadata": {},
   "outputs": [
    {
     "data": {
      "text/html": [
       "<div>\n",
       "<style scoped>\n",
       "    .dataframe tbody tr th:only-of-type {\n",
       "        vertical-align: middle;\n",
       "    }\n",
       "\n",
       "    .dataframe tbody tr th {\n",
       "        vertical-align: top;\n",
       "    }\n",
       "\n",
       "    .dataframe thead th {\n",
       "        text-align: right;\n",
       "    }\n",
       "</style>\n",
       "<table border=\"1\" class=\"dataframe\">\n",
       "  <thead>\n",
       "    <tr style=\"text-align: right;\">\n",
       "      <th></th>\n",
       "      <th>Certificate Description</th>\n",
       "      <th>Sport Name</th>\n",
       "      <th>Position</th>\n",
       "      <th>Year</th>\n",
       "      <th>Full Name</th>\n",
       "    </tr>\n",
       "  </thead>\n",
       "  <tbody>\n",
       "    <tr>\n",
       "      <th>0</th>\n",
       "      <td>Raleigh Flynn, your outstanding performance in...</td>\n",
       "      <td>Equestrian Dressage</td>\n",
       "      <td>1st</td>\n",
       "      <td>2013</td>\n",
       "      <td>Raleigh Flynn</td>\n",
       "    </tr>\n",
       "    <tr>\n",
       "      <th>1</th>\n",
       "      <td>Clifford Hall, your outstanding performance in...</td>\n",
       "      <td>Boxing</td>\n",
       "      <td>2nd</td>\n",
       "      <td>2013</td>\n",
       "      <td>Clifford Hall</td>\n",
       "    </tr>\n",
       "    <tr>\n",
       "      <th>2</th>\n",
       "      <td>In recognition of their exceptional performanc...</td>\n",
       "      <td>Rowing</td>\n",
       "      <td>2nd</td>\n",
       "      <td>2009</td>\n",
       "      <td>Clifton Hamilton</td>\n",
       "    </tr>\n",
       "    <tr>\n",
       "      <th>3</th>\n",
       "      <td>We take immense pleasure in presenting this ce...</td>\n",
       "      <td>Wrestling Freestyle</td>\n",
       "      <td>3rd</td>\n",
       "      <td>2011</td>\n",
       "      <td>Eldridge Simmons</td>\n",
       "    </tr>\n",
       "    <tr>\n",
       "      <th>4</th>\n",
       "      <td>Frederick Graves, your outstanding performance...</td>\n",
       "      <td>Water Polo</td>\n",
       "      <td>1st</td>\n",
       "      <td>2013</td>\n",
       "      <td>Frederick Graves</td>\n",
       "    </tr>\n",
       "  </tbody>\n",
       "</table>\n",
       "</div>"
      ],
      "text/plain": [
       "                             Certificate Description           Sport Name  \\\n",
       "0  Raleigh Flynn, your outstanding performance in...  Equestrian Dressage   \n",
       "1  Clifford Hall, your outstanding performance in...               Boxing   \n",
       "2  In recognition of their exceptional performanc...               Rowing   \n",
       "3  We take immense pleasure in presenting this ce...  Wrestling Freestyle   \n",
       "4  Frederick Graves, your outstanding performance...           Water Polo   \n",
       "\n",
       "  Position  Year         Full Name  \n",
       "0      1st  2013     Raleigh Flynn  \n",
       "1      2nd  2013     Clifford Hall  \n",
       "2      2nd  2009  Clifton Hamilton  \n",
       "3      3rd  2011  Eldridge Simmons  \n",
       "4      1st  2013  Frederick Graves  "
      ]
     },
     "execution_count": 27,
     "metadata": {},
     "output_type": "execute_result"
    }
   ],
   "source": [
    "df = pd.read_excel('NLP Engineer - Question 1.xlsx', sheet_name='Completed')\n",
    "df.head()"
   ]
  },
  {
   "cell_type": "code",
   "execution_count": 28,
   "id": "07898726",
   "metadata": {},
   "outputs": [
    {
     "data": {
      "text/html": [
       "<div>\n",
       "<style scoped>\n",
       "    .dataframe tbody tr th:only-of-type {\n",
       "        vertical-align: middle;\n",
       "    }\n",
       "\n",
       "    .dataframe tbody tr th {\n",
       "        vertical-align: top;\n",
       "    }\n",
       "\n",
       "    .dataframe thead th {\n",
       "        text-align: right;\n",
       "    }\n",
       "</style>\n",
       "<table border=\"1\" class=\"dataframe\">\n",
       "  <thead>\n",
       "    <tr style=\"text-align: right;\">\n",
       "      <th></th>\n",
       "      <th>Certificate Description</th>\n",
       "      <th>Sport Name</th>\n",
       "    </tr>\n",
       "  </thead>\n",
       "  <tbody>\n",
       "    <tr>\n",
       "      <th>0</th>\n",
       "      <td>Raleigh Flynn, your outstanding performance in...</td>\n",
       "      <td>Equestrian Dressage</td>\n",
       "    </tr>\n",
       "    <tr>\n",
       "      <th>1</th>\n",
       "      <td>Clifford Hall, your outstanding performance in...</td>\n",
       "      <td>Boxing</td>\n",
       "    </tr>\n",
       "    <tr>\n",
       "      <th>2</th>\n",
       "      <td>In recognition of their exceptional performanc...</td>\n",
       "      <td>Rowing</td>\n",
       "    </tr>\n",
       "    <tr>\n",
       "      <th>3</th>\n",
       "      <td>We take immense pleasure in presenting this ce...</td>\n",
       "      <td>Wrestling Freestyle</td>\n",
       "    </tr>\n",
       "    <tr>\n",
       "      <th>4</th>\n",
       "      <td>Frederick Graves, your outstanding performance...</td>\n",
       "      <td>Water Polo</td>\n",
       "    </tr>\n",
       "    <tr>\n",
       "      <th>...</th>\n",
       "      <td>...</td>\n",
       "      <td>...</td>\n",
       "    </tr>\n",
       "    <tr>\n",
       "      <th>293</th>\n",
       "      <td>We take immense pleasure in presenting this ce...</td>\n",
       "      <td>Taekwondo</td>\n",
       "    </tr>\n",
       "    <tr>\n",
       "      <th>294</th>\n",
       "      <td>In recognition of their exceptional performanc...</td>\n",
       "      <td>Canoe Slalom</td>\n",
       "    </tr>\n",
       "    <tr>\n",
       "      <th>295</th>\n",
       "      <td>Clifford Gallagher, your outstanding performan...</td>\n",
       "      <td>Mountain Bike</td>\n",
       "    </tr>\n",
       "    <tr>\n",
       "      <th>296</th>\n",
       "      <td>We take immense pleasure in presenting this ce...</td>\n",
       "      <td>Rugby Sevens</td>\n",
       "    </tr>\n",
       "    <tr>\n",
       "      <th>297</th>\n",
       "      <td>We take immense pleasure in presenting this ce...</td>\n",
       "      <td>Fencing</td>\n",
       "    </tr>\n",
       "  </tbody>\n",
       "</table>\n",
       "<p>298 rows × 2 columns</p>\n",
       "</div>"
      ],
      "text/plain": [
       "                               Certificate Description           Sport Name\n",
       "0    Raleigh Flynn, your outstanding performance in...  Equestrian Dressage\n",
       "1    Clifford Hall, your outstanding performance in...               Boxing\n",
       "2    In recognition of their exceptional performanc...               Rowing\n",
       "3    We take immense pleasure in presenting this ce...  Wrestling Freestyle\n",
       "4    Frederick Graves, your outstanding performance...           Water Polo\n",
       "..                                                 ...                  ...\n",
       "293  We take immense pleasure in presenting this ce...            Taekwondo\n",
       "294  In recognition of their exceptional performanc...         Canoe Slalom\n",
       "295  Clifford Gallagher, your outstanding performan...        Mountain Bike\n",
       "296  We take immense pleasure in presenting this ce...         Rugby Sevens\n",
       "297  We take immense pleasure in presenting this ce...              Fencing\n",
       "\n",
       "[298 rows x 2 columns]"
      ]
     },
     "execution_count": 28,
     "metadata": {},
     "output_type": "execute_result"
    }
   ],
   "source": [
    "Description = df[['Certificate Description','Sport Name']]\n",
    "Description"
   ]
  },
  {
   "cell_type": "code",
   "execution_count": 29,
   "id": "603a32e5",
   "metadata": {},
   "outputs": [],
   "source": [
    "from sklearn.model_selection import train_test_split"
   ]
  },
  {
   "cell_type": "code",
   "execution_count": 30,
   "id": "58c846d7",
   "metadata": {},
   "outputs": [],
   "source": [
    "train_data, test_data = train_test_split(Description, test_size=0.2, random_state=42)"
   ]
  },
  {
   "cell_type": "code",
   "execution_count": 31,
   "id": "2689de45",
   "metadata": {},
   "outputs": [
    {
     "data": {
      "text/plain": [
       "(238, 60)"
      ]
     },
     "execution_count": 31,
     "metadata": {},
     "output_type": "execute_result"
    }
   ],
   "source": [
    "len(train_data), len(test_data)"
   ]
  },
  {
   "cell_type": "code",
   "execution_count": 32,
   "id": "054b85a5",
   "metadata": {},
   "outputs": [],
   "source": [
    "import os"
   ]
  },
  {
   "cell_type": "code",
   "execution_count": 33,
   "id": "ad873f21",
   "metadata": {},
   "outputs": [],
   "source": [
    "with open('train.txt','w') as f:\n",
    "    for i in train_data:\n",
    "        f.write(i + ' \\n')\n",
    "\n",
    "with open('test.txt','w') as f:\n",
    "    for i in test_data:\n",
    "        f.write(i + ' \\n')"
   ]
  },
  {
   "cell_type": "code",
   "execution_count": 34,
   "id": "83277dbe",
   "metadata": {},
   "outputs": [
    {
     "data": {
      "text/plain": [
       "50"
      ]
     },
     "execution_count": 34,
     "metadata": {},
     "output_type": "execute_result"
    }
   ],
   "source": [
    "ar = df['Sport Name'].unique()\n",
    "\n",
    "len(ar)"
   ]
  },
  {
   "cell_type": "code",
   "execution_count": 35,
   "id": "9cd280b9",
   "metadata": {},
   "outputs": [
    {
     "data": {
      "text/plain": [
       "50"
      ]
     },
     "execution_count": 35,
     "metadata": {},
     "output_type": "execute_result"
    }
   ],
   "source": [
    "tr = pd.DataFrame(train_data)\n",
    "a = tr['Sport Name'].unique()\n",
    "len(a)"
   ]
  },
  {
   "cell_type": "code",
   "execution_count": 37,
   "id": "43341bb6",
   "metadata": {},
   "outputs": [
    {
     "data": {
      "text/html": [
       "<div>\n",
       "<style scoped>\n",
       "    .dataframe tbody tr th:only-of-type {\n",
       "        vertical-align: middle;\n",
       "    }\n",
       "\n",
       "    .dataframe tbody tr th {\n",
       "        vertical-align: top;\n",
       "    }\n",
       "\n",
       "    .dataframe thead th {\n",
       "        text-align: right;\n",
       "    }\n",
       "</style>\n",
       "<table border=\"1\" class=\"dataframe\">\n",
       "  <thead>\n",
       "    <tr style=\"text-align: right;\">\n",
       "      <th></th>\n",
       "      <th>0</th>\n",
       "    </tr>\n",
       "  </thead>\n",
       "  <tbody>\n",
       "    <tr>\n",
       "      <th>0</th>\n",
       "      <td>In recognition of their exceptional performanc...</td>\n",
       "    </tr>\n",
       "    <tr>\n",
       "      <th>1</th>\n",
       "      <td>Eldridge Holloway, your outstanding performanc...</td>\n",
       "    </tr>\n",
       "    <tr>\n",
       "      <th>2</th>\n",
       "      <td>In recognition of their exceptional performanc...</td>\n",
       "    </tr>\n",
       "    <tr>\n",
       "      <th>3</th>\n",
       "      <td>Frederick Johns, your outstanding performance ...</td>\n",
       "    </tr>\n",
       "    <tr>\n",
       "      <th>4</th>\n",
       "      <td>In recognition of their exceptional performanc...</td>\n",
       "    </tr>\n",
       "  </tbody>\n",
       "</table>\n",
       "</div>"
      ],
      "text/plain": [
       "                                                   0\n",
       "0  In recognition of their exceptional performanc...\n",
       "1  Eldridge Holloway, your outstanding performanc...\n",
       "2  In recognition of their exceptional performanc...\n",
       "3  Frederick Johns, your outstanding performance ...\n",
       "4  In recognition of their exceptional performanc..."
      ]
     },
     "execution_count": 37,
     "metadata": {},
     "output_type": "execute_result"
    }
   ],
   "source": [
    "df2 = pd.read_excel('NLP Engineer - Question 1.xlsx', sheet_name='Data-Pending',header=None)\n",
    "df2.head()"
   ]
  },
  {
   "cell_type": "code",
   "execution_count": null,
   "id": "3768f5f2",
   "metadata": {},
   "outputs": [],
   "source": []
  },
  {
   "cell_type": "code",
   "execution_count": null,
   "id": "56d8f59a",
   "metadata": {},
   "outputs": [],
   "source": []
  }
 ],
 "metadata": {
  "kernelspec": {
   "display_name": "Python 3 (ipykernel)",
   "language": "python",
   "name": "python3"
  },
  "language_info": {
   "codemirror_mode": {
    "name": "ipython",
    "version": 3
   },
   "file_extension": ".py",
   "mimetype": "text/x-python",
   "name": "python",
   "nbconvert_exporter": "python",
   "pygments_lexer": "ipython3",
   "version": "3.9.7"
  }
 },
 "nbformat": 4,
 "nbformat_minor": 5
}
